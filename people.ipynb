{
 "cells": [
  {
   "cell_type": "code",
   "execution_count": 3,
   "id": "b717f310",
   "metadata": {},
   "outputs": [],
   "source": [
    "import pandas as pd\n",
    "#read in the 3 different df\n",
    "df = pd.read_csv('cons.csv')\n",
    "df1 = pd.read_csv('cons_email.csv')\n",
    "df2 = pd.read_csv('cons_email_chapter_subscription.csv')\n",
    "#merge df with df1 where cons_id are equal\n",
    "#and only include df1 where is_primary = 1\n",
    "new_df = pd.merge(df, df1.loc[df1['is_primary'] == 1], how = 'inner', on='cons_id')\n",
    "#merge df1 with df2 where cons_email_id are equal\n",
    "#and only include df2 where chapter_id = 1\n",
    "new_df1 = pd.merge(new_df, df2.loc[df2['chapter_id'] == 1], how = 'inner', on = 'cons_email_id')\n",
    "#new df into a csv and rename some columns\n",
    "new_df1[['email','source','isunsub','create_dt_x','modified_dt_x']].rename(columns = ({'source': 'code','isunsub': 'is_unsub', 'create_dt_x':'created_dt', 'modified_dt_x':'updated_dt'})).to_csv('people.csv', index = False)"
   ]
  },
  {
   "cell_type": "code",
   "execution_count": null,
   "id": "05ecb56e",
   "metadata": {},
   "outputs": [],
   "source": [
    "\n"
   ]
  },
  {
   "cell_type": "code",
   "execution_count": null,
   "id": "4048cce3",
   "metadata": {},
   "outputs": [],
   "source": []
  },
  {
   "cell_type": "code",
   "execution_count": null,
   "id": "819a71f4",
   "metadata": {},
   "outputs": [],
   "source": []
  },
  {
   "cell_type": "code",
   "execution_count": null,
   "id": "47178c8e",
   "metadata": {},
   "outputs": [],
   "source": []
  },
  {
   "cell_type": "code",
   "execution_count": null,
   "id": "36ab82c0",
   "metadata": {},
   "outputs": [],
   "source": []
  }
 ],
 "metadata": {
  "kernelspec": {
   "display_name": "Python 3 (ipykernel)",
   "language": "python",
   "name": "python3"
  },
  "language_info": {
   "codemirror_mode": {
    "name": "ipython",
    "version": 3
   },
   "file_extension": ".py",
   "mimetype": "text/x-python",
   "name": "python",
   "nbconvert_exporter": "python",
   "pygments_lexer": "ipython3",
   "version": "3.9.13"
  }
 },
 "nbformat": 4,
 "nbformat_minor": 5
}
