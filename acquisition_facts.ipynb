{
 "cells": [
  {
   "cell_type": "code",
   "execution_count": 3,
   "id": "699b379e",
   "metadata": {},
   "outputs": [],
   "source": [
    "import pandas as pd\n",
    "\n",
    "#read in the people df\n",
    "df = pd.read_csv('people.csv')\n",
    "#turn (type) datetime into (type) date\n",
    "df['acquisition_date'] = pd.to_datetime(df['created_dt']).dt.date\n",
    "#group by the date and create a count of each date\n",
    "df2=df.groupby(['acquisition_date'])['acquisition_date'].count().reset_index(name='acquisitions')\n",
    "#new df into a csv file\n",
    "df2.to_csv('acquisition_facts.csv', index = False)\n"
   ]
  },
  {
   "cell_type": "code",
   "execution_count": null,
   "id": "364ff0cd",
   "metadata": {},
   "outputs": [],
   "source": []
  },
  {
   "cell_type": "code",
   "execution_count": null,
   "id": "09fb8568",
   "metadata": {},
   "outputs": [],
   "source": []
  },
  {
   "cell_type": "code",
   "execution_count": null,
   "id": "4c2fd957",
   "metadata": {},
   "outputs": [],
   "source": []
  }
 ],
 "metadata": {
  "kernelspec": {
   "display_name": "Python 3 (ipykernel)",
   "language": "python",
   "name": "python3"
  },
  "language_info": {
   "codemirror_mode": {
    "name": "ipython",
    "version": 3
   },
   "file_extension": ".py",
   "mimetype": "text/x-python",
   "name": "python",
   "nbconvert_exporter": "python",
   "pygments_lexer": "ipython3",
   "version": "3.9.13"
  }
 },
 "nbformat": 4,
 "nbformat_minor": 5
}
